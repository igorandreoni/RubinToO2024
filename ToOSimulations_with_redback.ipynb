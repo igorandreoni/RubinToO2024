{
 "cells": [
  {
   "cell_type": "markdown",
   "id": "ca02b38c",
   "metadata": {},
   "source": [
    "## Notebook to show how to use redback to generate toO style observations for any model. \n",
    "\n",
    "You will need to install Redback. Instructions available at https://redback.readthedocs.io/en/latest/. I suggest installing from source via GitHub."
   ]
  },
  {
   "cell_type": "code",
   "execution_count": 1,
   "id": "ba8c5fc6",
   "metadata": {},
   "outputs": [
    {
     "name": "stderr",
     "output_type": "stream",
     "text": [
      "16:28 bilby INFO    : Running bilby version: 2.2.4.dev7+ga818fe8f\n",
      "16:28 redback INFO    : Running redback version: 1.0.1\n"
     ]
    }
   ],
   "source": [
    "import redback\n",
    "import pandas as pd\n",
    "from redback.simulate_transients import SimulateOpticalTransient\n",
    "import matplotlib.pyplot as plt\n",
    "import numpy as np"
   ]
  },
  {
   "cell_type": "markdown",
   "id": "f675ed98",
   "metadata": {},
   "source": [
    "We first design a strategy. This takes the form of a dataframe which specifies sky pointings, time, limiting mags, and the bands"
   ]
  },
  {
   "cell_type": "code",
   "execution_count": 2,
   "id": "6bcc6760",
   "metadata": {},
   "outputs": [
    {
     "name": "stdout",
     "output_type": "stream",
     "text": [
      "         expMJD  _ra  _dec filter  fiveSigmaDepth\n",
      "0  59582.180147  1.0   1.5  lsstg            25.0\n",
      "0  59582.492505  1.0   1.5  lsstu            25.0\n",
      "0  59583.492485  1.0   1.5  lsstz            23.0\n",
      "1  59583.658149  1.0   1.5  lsstg            25.0\n",
      "0  59583.669905  1.0   1.5  lssti            23.0\n",
      "1  59583.850379  1.0   1.5  lsstu            25.0\n",
      "1  59584.937064  1.0   1.5  lsstz            23.0\n",
      "2  59585.042648  1.0   1.5  lsstg            25.0\n",
      "2  59585.607560  1.0   1.5  lsstu            25.0\n",
      "0  59585.872426  1.0   1.5  lsstr            24.5\n",
      "3  59586.028325  1.0   1.5  lsstu            25.0\n",
      "2  59586.245133  1.0   1.5  lsstz            23.0\n",
      "1  59586.562660  1.0   1.5  lssti            23.0\n",
      "3  59586.893282  1.0   1.5  lsstg            25.0\n",
      "4  59587.355231  1.0   1.5  lsstu            25.0\n",
      "3  59587.823244  1.0   1.5  lsstz            23.0\n",
      "4  59587.895677  1.0   1.5  lsstz            23.0\n",
      "5  59588.444323  1.0   1.5  lsstz            23.0\n",
      "4  59588.597719  1.0   1.5  lsstg            25.0\n",
      "8  59589.617223  1.0   1.5  lsstz            23.0\n",
      "5  59589.624317  1.0   1.5  lsstu            25.0\n",
      "6  59589.715564  1.0   1.5  lsstz            23.0\n",
      "2  59589.832316  1.0   1.5  lssti            23.0\n",
      "7  59590.351273  1.0   1.5  lsstz            23.0\n",
      "7  59590.486153  1.0   1.5  lsstu            25.0\n",
      "5  59590.605219  1.0   1.5  lsstg            25.0\n",
      "9  59590.647158  1.0   1.5  lsstu            25.0\n",
      "9  59590.805927  1.0   1.5  lsstz            23.0\n",
      "6  59591.183543  1.0   1.5  lsstu            25.0\n",
      "3  59591.351637  1.0   1.5  lssti            23.0\n",
      "8  59591.410339  1.0   1.5  lsstu            25.0\n",
      "1  59591.703325  1.0   1.5  lsstr            24.5\n",
      "6  59591.870588  1.0   1.5  lsstg            25.0\n",
      "7  59592.569476  1.0   1.5  lsstg            25.0\n",
      "4  59593.718029  1.0   1.5  lssti            23.0\n",
      "8  59593.932699  1.0   1.5  lsstg            25.0\n",
      "9  59594.934338  1.0   1.5  lsstg            25.0\n",
      "5  59596.395199  1.0   1.5  lssti            23.0\n",
      "2  59596.906750  1.0   1.5  lsstr            24.5\n",
      "6  59598.434857  1.0   1.5  lssti            23.0\n",
      "7  59600.912609  1.0   1.5  lssti            23.0\n",
      "3  59601.071891  1.0   1.5  lsstr            24.5\n",
      "8  59603.302651  1.0   1.5  lssti            23.0\n",
      "9  59605.926214  1.0   1.5  lssti            23.0\n",
      "4  59606.209735  1.0   1.5  lsstr            24.5\n",
      "5  59611.315049  1.0   1.5  lsstr            24.5\n",
      "6  59616.778593  1.0   1.5  lsstr            24.5\n",
      "7  59622.079047  1.0   1.5  lsstr            24.5\n",
      "8  59627.068726  1.0   1.5  lsstr            24.5\n",
      "9  59631.340752  1.0   1.5  lsstr            24.5\n"
     ]
    }
   ],
   "source": [
    "# specify the number of pointings per band \n",
    "num_obs = {'lsstg': 10, 'lsstr':10, 'lssti':10, 'lsstz':10, 'lsstu':10}\n",
    "\n",
    "# specify the cadence in days for each band\n",
    "average_cadence = {'lsstg': 1.5, 'lsstr': 5.0, 'lssti': 2.5, 'lsstz':1, 'lsstu':1}\n",
    "\n",
    "# specify any scatter on the cadence, the time of the observation will be \n",
    "# taken from a Gaussian with the scatter as sigma\n",
    "cadence_scatter = {'lsstg': 0.5, 'lsstr':0.5, 'lssti':0.5, 'lsstz':1, 'lsstu':1}\n",
    "\n",
    "# Specify limiting 5 sigma depth magnitude\n",
    "limiting_magnitudes = {'lsstg': 25.0, 'lsstr': 24.5, 'lssti': 23.0, 'lsstu':25, 'lsstz':23}\n",
    "\n",
    "# We now use redback to make a pointings table from the above information\n",
    "# We set RA and DEC to always be at the location of the transient \n",
    "# but we can change this to incorporate the fov/full survey\n",
    "ra = 1.0 \n",
    "dec = 1.5\n",
    "# We also set the start time of the observation/survey strategy \n",
    "initMJD = 59581.0\n",
    "pointings = redback.simulate_transients.make_pointing_table_from_average_cadence(\n",
    "    ra=ra, dec=dec, num_obs=num_obs, average_cadence=average_cadence,\n",
    "    cadence_scatter=cadence_scatter, limiting_magnitudes=limiting_magnitudes, \n",
    "    initMJD=59581.0)\n",
    "print(pointings)"
   ]
  },
  {
   "cell_type": "markdown",
   "id": "e200dfbe",
   "metadata": {},
   "source": [
    "We now specify a redback model (or a user implemented model) and the parameters we want to simulate given the above cadences. "
   ]
  },
  {
   "cell_type": "code",
   "execution_count": 3,
   "id": "9bee8aac",
   "metadata": {},
   "outputs": [
    {
     "name": "stderr",
     "output_type": "stream",
     "text": [
      "16:28 redback WARNING : [Errno 2] No such file or directory: '/Users/nikhil/Documents/postdoc/redback/redback/priors/one_component_kilonova.prior'\n",
      "16:28 redback WARNING : Returning empty PriorDict.\n"
     ]
    },
    {
     "name": "stdout",
     "output_type": "stream",
     "text": [
      "{'mej': 0.05, 't0_mjd_transient': 59582.0, 'redshift': 0.01, 't0': 59582.0, 'temperature_floor': 3000, 'kappa': 1, 'vej': 0.2, 'ra': 1.0, 'dec': 1.5}\n"
     ]
    }
   ],
   "source": [
    "model_kwargs = {}\n",
    "# Any redback model can be referred to as a string. \n",
    "# If the user has their own model, they can pass a function here instead. \n",
    "# There are over a 100 models implemented in redback, lots of models for kilonovae, GRB afterglows, \n",
    "# supernovae, TDEs and other things\n",
    "model = 'one_component_kilonova'\n",
    "# Load the default prior for this model in redback and sample from it to get 1 set of parameters. \n",
    "# We can sample from the default prior for this model for a random kilonova. \n",
    "parameters = redback.priors.get_priors(model=model).sample()\n",
    "\n",
    "# We fix a few parameters here to create a nice looking kilonova. \n",
    "# You can change any of the parameters here or add additional keyword arguments \n",
    "# to change some physical assumptions. Please refer to the documentation for this and units etc\n",
    "parameters['mej'] = 0.05\n",
    "parameters['t0_mjd_transient'] = 59582.0\n",
    "parameters['redshift'] = 0.01\n",
    "parameters['t0'] = parameters['t0_mjd_transient']\n",
    "parameters['temperature_floor'] = 3000\n",
    "parameters['kappa'] = 1\n",
    "parameters['vej'] = 0.2\n",
    "parameters['ra'] = 1.0\n",
    "parameters['dec'] = 1.5\n",
    "print(parameters)"
   ]
  },
  {
   "cell_type": "markdown",
   "id": "3ca22933",
   "metadata": {},
   "source": [
    "We now simulate a kilonova with the above parameters and the strategy designed above."
   ]
  },
  {
   "cell_type": "code",
   "execution_count": 4,
   "id": "d955414c",
   "metadata": {},
   "outputs": [
    {
     "name": "stderr",
     "output_type": "stream",
     "text": [
      "16:28 redback INFO    : Using the supplied as the pointing database.\n"
     ]
    }
   ],
   "source": [
    "kn_sim = SimulateOpticalTransient.simulate_transient(model='one_component_kilonova_model',\n",
    "                                       parameters=parameters, pointings_database=pointings,\n",
    "                                       survey=None, model_kwargs=model_kwargs,\n",
    "                                        end_transient_time=20., snr_threshold=5.0)"
   ]
  },
  {
   "cell_type": "code",
   "execution_count": 5,
   "id": "1b3eae74",
   "metadata": {},
   "outputs": [
    {
     "name": "stdout",
     "output_type": "stream",
     "text": [
      "            time  magnitude  e_magnitude   band system  flux_density(mjy)   \n",
      "0   59582.180147  20.409959     0.003165  lsstg     AB           0.024909  \\\n",
      "1   59582.492505  20.239631     0.002705  lsstu     AB           0.029142   \n",
      "2   59583.492485  18.429289     0.003219  lsstz     AB           0.154529   \n",
      "3   59583.658149  19.876845     0.001942  lsstg     AB           0.040607   \n",
      "4   59583.669905  18.601859     0.003752  lssti     AB           0.132599   \n",
      "5   59583.850379  21.623112     0.009777  lsstu     AB           0.008064   \n",
      "6   59584.937064  18.750489     0.004338  lsstz     AB           0.114662   \n",
      "7   59585.042648  21.581913     0.009428  lsstg     AB           0.008362   \n",
      "8   59585.607560  24.393896     0.127071  lsstu     AB           0.000620   \n",
      "9   59585.872426  20.468957     0.005278  lsstr     AB           0.023675   \n",
      "10  59586.028325  24.567203     0.150044  lsstu     AB           0.000525   \n",
      "11  59586.245133  19.330835     0.007331  lsstz     AB           0.067853   \n",
      "12  59586.562660  19.930000     0.012938  lssti     AB           0.038450   \n",
      "13  59586.893282  22.524063     0.021727  lsstg     AB           0.003629   \n",
      "14  59587.355231  25.340487     0.277944  lsstu     AB           0.000284   \n",
      "15  59587.823244  20.150582     0.015586  lsstz     AB           0.031918   \n",
      "16  59587.895677  20.167839     0.016147  lsstz     AB           0.030808   \n",
      "17  59588.444323  20.469292     0.020944  lsstz     AB           0.023751   \n",
      "18  59588.597719  23.356844     0.049400  lsstg     AB           0.001596   \n",
      "19  59589.617223  20.990594     0.033668  lsstz     AB           0.014775   \n",
      "20  59589.624317  25.760812     0.758183  lsstu     AB           0.000104   \n",
      "21  59589.715564  20.994217     0.034814  lsstz     AB           0.014289   \n",
      "22  59589.832316  21.473338     0.055395  lssti     AB           0.008980   \n",
      "23  59590.351273  21.219385     0.042220  lsstz     AB           0.011782   \n",
      "24  59590.486153  25.789167     0.983188  lsstu     AB           0.000080   \n",
      "25  59590.605219  24.252614     0.099297  lsstg     AB           0.000794   \n",
      "26  59590.647158  26.373819     1.024206  lsstu     AB           0.000077   \n",
      "27  59590.805927  21.376891     0.047366  lsstz     AB           0.010502   \n",
      "28  59591.183543  25.785831     1.156168  lsstu     AB           0.000068   \n",
      "29  59591.351637  21.997492     0.081512  lssti     AB           0.006103   \n",
      "30  59591.410339  25.458105     1.209595  lsstu     AB           0.000065   \n",
      "31  59591.703325  22.916330     0.047650  lsstr     AB           0.002622   \n",
      "32  59591.870588  24.558999     0.128641  lsstg     AB           0.000613   \n",
      "33  59592.569476  24.273943     0.142803  lsstg     AB           0.000552   \n",
      "34  59593.718029  22.348474     0.113220  lssti     AB           0.004394   \n",
      "35  59593.932699  25.304951     0.165987  lsstg     AB           0.000475   \n",
      "36  59594.934338  24.498299     0.179152  lsstg     AB           0.000440   \n",
      "37  59596.395199  22.347813     0.133996  lssti     AB           0.003712   \n",
      "38  59596.906750  23.260227     0.074631  lsstr     AB           0.001674   \n",
      "39  59598.434857  22.577039     0.140353  lssti     AB           0.003544   \n",
      "40  59600.912609  22.561513     0.141376  lssti     AB           0.003519   \n",
      "41  59601.071891  23.590757     0.077399  lsstr     AB           0.001614   \n",
      "\n",
      "    flux_density_error  flux(erg/cm2/s)    flux_error  time (days)  detected   \n",
      "0             0.000073     4.163814e-14  1.214800e-16     0.180147       1.0  \\\n",
      "1             0.000073     3.065054e-14  7.644000e-17     0.492505       1.0   \n",
      "2             0.000458     6.139773e-14  1.823467e-16     1.492485       1.0   \n",
      "3             0.000073     6.803572e-14  1.214800e-16     1.658149       1.0   \n",
      "4             0.000458     8.224144e-14  2.863284e-16     1.669905       1.0   \n",
      "5             0.000073     8.571283e-15  7.644000e-17     1.850379       1.0   \n",
      "6             0.000458     4.567434e-14  1.823467e-16     2.937064       1.0   \n",
      "7             0.000073     1.414848e-14  1.214800e-16     3.042648       1.0   \n",
      "8             0.000073     6.679318e-16  7.644000e-17     3.607560       1.0   \n",
      "9             0.000115     2.228902e-14  1.088188e-16     3.872426       1.0   \n",
      "10            0.000073     5.693895e-16  7.644000e-17     4.028325       1.0   \n",
      "11            0.000458     2.676294e-14  1.823467e-16     4.245133       1.0   \n",
      "12            0.000458     2.420106e-14  2.863284e-16     4.562660       1.0   \n",
      "13            0.000073     5.940861e-15  1.214800e-16     4.893282       1.0   \n",
      "14            0.000073     2.793160e-16  7.644000e-17     5.355231       0.0   \n",
      "15            0.000458     1.257868e-14  1.823467e-16     5.823244       1.0   \n",
      "16            0.000458     1.238033e-14  1.823467e-16     5.895677       1.0   \n",
      "17            0.000458     9.378885e-15  1.823467e-16     6.444323       1.0   \n",
      "18            0.000073     2.758908e-15  1.214800e-16     6.597719       1.0   \n",
      "19            0.000458     5.802702e-15  1.823467e-16     7.617223       1.0   \n",
      "20            0.000073     1.896557e-16  7.644000e-17     7.624317       0.0   \n",
      "21            0.000458     5.783369e-15  1.823467e-16     7.715564       1.0   \n",
      "22            0.000458     5.841163e-15  2.863284e-16     7.832316       1.0   \n",
      "23            0.000458     4.700175e-15  1.823467e-16     8.351273       1.0   \n",
      "24            0.000073     1.847668e-16  7.644000e-17     8.486153       0.0   \n",
      "25            0.000073     1.209009e-15  1.214800e-16     8.605219       1.0   \n",
      "26            0.000073     1.078359e-16  7.644000e-17     8.647158       0.0   \n",
      "27            0.000458     4.065477e-15  1.823467e-16     8.805927       1.0   \n",
      "28            0.000073     1.853353e-16  7.644000e-17     9.183543       0.0   \n",
      "29            0.000458     3.604439e-15  2.863284e-16     9.351637       1.0   \n",
      "30            0.000073     2.506390e-16  7.644000e-17     9.410339       0.0   \n",
      "31            0.000115     2.339600e-15  1.088188e-16     9.703325       1.0   \n",
      "32            0.000073     9.117490e-16  1.214800e-16     9.870588       1.0   \n",
      "33            0.000073     1.185489e-15  1.214800e-16    10.569476       1.0   \n",
      "34            0.000458     2.608824e-15  2.863284e-16    11.718029       1.0   \n",
      "35            0.000073     4.586639e-16  1.214800e-16    11.932699       0.0   \n",
      "36            0.000073     9.641736e-16  1.214800e-16    12.934338       1.0   \n",
      "37            0.000458     2.610414e-15  2.863284e-16    14.395199       1.0   \n",
      "38            0.000115     1.704445e-15  1.088188e-16    14.906750       1.0   \n",
      "39            0.000458     2.113581e-15  2.863284e-16    16.434857       1.0   \n",
      "40            0.000458     2.144023e-15  2.863284e-16    18.912609       1.0   \n",
      "41            0.000115     1.257103e-15  1.088188e-16    19.071891       1.0   \n",
      "\n",
      "    limiting_magnitude  \n",
      "0                 25.0  \n",
      "1                 25.0  \n",
      "2                 23.0  \n",
      "3                 25.0  \n",
      "4                 23.0  \n",
      "5                 25.0  \n",
      "6                 23.0  \n",
      "7                 25.0  \n",
      "8                 25.0  \n",
      "9                 24.5  \n",
      "10                25.0  \n",
      "11                23.0  \n",
      "12                23.0  \n",
      "13                25.0  \n",
      "14                25.0  \n",
      "15                23.0  \n",
      "16                23.0  \n",
      "17                23.0  \n",
      "18                25.0  \n",
      "19                23.0  \n",
      "20                25.0  \n",
      "21                23.0  \n",
      "22                23.0  \n",
      "23                23.0  \n",
      "24                25.0  \n",
      "25                25.0  \n",
      "26                25.0  \n",
      "27                23.0  \n",
      "28                25.0  \n",
      "29                23.0  \n",
      "30                25.0  \n",
      "31                24.5  \n",
      "32                25.0  \n",
      "33                25.0  \n",
      "34                23.0  \n",
      "35                25.0  \n",
      "36                25.0  \n",
      "37                23.0  \n",
      "38                24.5  \n",
      "39                23.0  \n",
      "40                23.0  \n",
      "41                24.5  \n"
     ]
    }
   ],
   "source": [
    "# We can print the observations that were simulated to see what the data looks like. \n",
    "# This will include extra stuff like non-detections etc\n",
    "print(kn_sim.observations)"
   ]
  },
  {
   "cell_type": "code",
   "execution_count": 6,
   "id": "7c535c0e",
   "metadata": {},
   "outputs": [],
   "source": [
    "# We can also save the observations to a file using the save_transient method.\n",
    "# This will save the observations to a csv file in a 'simulated' directory alongside the csv file\n",
    "# specifying the injection parameters.\n",
    "kn_sim.save_transient(name='my_kilonova')"
   ]
  },
  {
   "cell_type": "code",
   "execution_count": 7,
   "id": "90532c0b",
   "metadata": {},
   "outputs": [
    {
     "name": "stderr",
     "output_type": "stream",
     "text": [
      "16:28 redback WARNING : [Errno 2] No such file or directory: 'kilonova//my_kilonova_metadata.csv'\n",
      "16:28 redback WARNING : Setting metadata to None. This is not an error, but a warning that no metadata could be found online.\n"
     ]
    },
    {
     "data": {
      "text/plain": [
       "(24.0, 18.0)"
      ]
     },
     "execution_count": 7,
     "metadata": {},
     "output_type": "execute_result"
    },
    {
     "data": {
      "image/png": "[encoded data removed]",
      "text/plain": [
       "<Figure size 640x480 with 1 Axes>"
      ]
     },
     "metadata": {},
     "output_type": "display_data"
    }
   ],
   "source": [
    "kn_object = redback.transient.Kilonova.from_simulated_optical_data(name='my_kilonova', data_mode='magnitude')\n",
    "\n",
    "# Make a dictionary for colors on the plot\n",
    "band_colors = {'lsstg':'#4daf4a', 'lsstu':'#377eb8', 'lsstr':'#e41a1c', \n",
    "               'lsstz':'#a65628', 'lssti':'#ff7f00'}\n",
    "ax = kn_object.plot_data(show=False, band_colors=band_colors)\n",
    "ax.set_ylim(24, 18)"
   ]
  },
  {
   "cell_type": "markdown",
   "id": "821caf8f",
   "metadata": {},
   "source": [
    "The above plot only shows the detection and not the input lightcurve or non-detections. Let's add those in. As the axes is returned with can use the attributes stored in the kn_sim object directly."
   ]
  },
  {
   "cell_type": "code",
   "execution_count": 9,
   "id": "77448ec0",
   "metadata": {},
   "outputs": [
    {
     "data": {
      "text/plain": [
       "(0.1, 20.0)"
      ]
     },
     "execution_count": 9,
     "metadata": {},
     "output_type": "execute_result"
    },
    {
     "data": {
      "image/png": "[encoded data removed]",
      "text/plain": [
       "<Figure size 640x480 with 1 Axes>"
      ]
     },
     "metadata": {},
     "output_type": "display_data"
    }
   ],
   "source": [
    "# Make a dictionary for colors on the plot\n",
    "band_colors = {'lsstg':'#4daf4a', 'lsstu':'#377eb8', 'lsstr':'#e41a1c', \n",
    "               'lsstz':'#a65628', 'lssti':'#ff7f00'}\n",
    "ax = kn_object.plot_data(show=False, band_colors=band_colors)\n",
    "ax.set_ylim(27, 18)\n",
    "\n",
    "upper_limits = kn_sim.observations[kn_sim.observations['detected'] != 1.0]\n",
    "\n",
    "for band in band_colors.keys():\n",
    "    up = upper_limits[upper_limits['band'] == band]\n",
    "    plt.scatter(up['time (days)'], up['limiting_magnitude'], s=100, marker=r'$\\downarrow$', color=band_colors[band])\n",
    "\n",
    "    \n",
    "# We can also plot the true data \n",
    "tt = np.linspace(0.1, 20, 100)\n",
    "# specify output_format \n",
    "parameters['output_format'] = 'magnitude'\n",
    "for band in band_colors.keys():\n",
    "    parameters['bands'] = band\n",
    "    out = redback.transient_models.kilonova_models.one_component_kilonova_model(tt, **parameters)\n",
    "    plt.plot(tt, out, color=band_colors[band], alpha=0.3)\n",
    "\n",
    "plt.xlim(0.1, 20)\n"
   ]
  },
  {
   "cell_type": "markdown",
   "id": "f2582882",
   "metadata": {},
   "source": [
    "You can now use the simulated object and do parameter estimation. There are multiple examples available at \n",
    "https://github.com/nikhil-sarin/redback/tree/master/examples. Alongside other examples to simulate full survey or single lightcurves for Rubin or ZTF \n",
    "https://github.com/nikhil-sarin/redback/blob/master/examples/simulate_survey.py\n",
    "https://github.com/nikhil-sarin/redback/blob/master/examples/simulate_single_transient_in_rubin.py\n"
   ]
  }
 ],
 "metadata": {
  "kernelspec": {
   "display_name": "Python 3 (ipykernel)",
   "language": "python",
   "name": "python3"
  },
  "language_info": {
   "codemirror_mode": {
    "name": "ipython",
    "version": 3
   },
   "file_extension": ".py",
   "mimetype": "text/x-python",
   "name": "python",
   "nbconvert_exporter": "python",
   "pygments_lexer": "ipython3",
   "version": "3.10.7"
  }
 },
 "nbformat": 4,
 "nbformat_minor": 5
}
