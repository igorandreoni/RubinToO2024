{
 "cells": [
  {
   "cell_type": "markdown",
   "id": "a043c868",
   "metadata": {},
   "source": [
    "## Notebook to show how to use redback to generate toO style observations for any model. \n",
    "\n",
    "You will need to install Redback. Instructions available at https://redback.readthedocs.io/en/latest/. I suggest installing from source via GitHub."
   ]
  },
  {
   "cell_type": "code",
   "execution_count": 1,
   "id": "9a5048ea",
   "metadata": {},
   "outputs": [
    {
     "name": "stderr",
     "output_type": "stream",
     "text": [
      "16:21 bilby INFO    : Running bilby version: 2.2.4.dev7+ga818fe8f\n",
      "16:21 redback INFO    : Running redback version: 1.0.1\n"
     ]
    }
   ],
   "source": [
    "import redback\n",
    "import pandas as pd\n",
    "from redback.simulate_transients import SimulateOpticalTransient\n",
    "import matplotlib.pyplot as plt\n",
    "import numpy as np"
   ]
  },
  {
   "cell_type": "markdown",
   "id": "d02edf67",
   "metadata": {},
   "source": [
    "We first design a strategy. This takes the form of a dataframe which specifies sky pointings, time, limiting mags, and the bands"
   ]
  },
  {
   "cell_type": "code",
   "execution_count": 2,
   "id": "93e7ec28",
   "metadata": {},
   "outputs": [
    {
     "name": "stdout",
     "output_type": "stream",
     "text": [
      "         expMJD  _ra  _dec filter  fiveSigmaDepth\n",
      "0  59581.159691  1.0   1.5  lsstu            25.0\n",
      "0  59581.946681  1.0   1.5  lsstz            23.0\n",
      "2  59582.083415  1.0   1.5  lsstz            23.0\n",
      "3  59582.182805  1.0   1.5  lsstz            23.0\n",
      "4  59582.200933  1.0   1.5  lsstz            23.0\n",
      "1  59582.625793  1.0   1.5  lsstz            23.0\n",
      "0  59582.915693  1.0   1.5  lsstg            25.0\n",
      "1  59583.087919  1.0   1.5  lsstu            25.0\n",
      "2  59583.227214  1.0   1.5  lsstu            25.0\n",
      "7  59583.639468  1.0   1.5  lsstz            23.0\n",
      "0  59583.938204  1.0   1.5  lssti            23.0\n",
      "6  59584.255173  1.0   1.5  lsstz            23.0\n",
      "8  59584.489534  1.0   1.5  lsstz            23.0\n",
      "5  59584.631016  1.0   1.5  lsstz            23.0\n",
      "3  59584.843276  1.0   1.5  lsstu            25.0\n",
      "1  59585.520656  1.0   1.5  lsstg            25.0\n",
      "9  59585.754989  1.0   1.5  lsstz            23.0\n",
      "0  59585.789345  1.0   1.5  lsstr            24.5\n",
      "1  59586.814794  1.0   1.5  lssti            23.0\n",
      "2  59587.593814  1.0   1.5  lsstg            25.0\n",
      "4  59588.221092  1.0   1.5  lsstu            25.0\n",
      "3  59588.531148  1.0   1.5  lsstg            25.0\n",
      "5  59589.008376  1.0   1.5  lsstu            25.0\n",
      "7  59589.321063  1.0   1.5  lsstu            25.0\n",
      "2  59589.570854  1.0   1.5  lssti            23.0\n",
      "4  59589.645741  1.0   1.5  lsstg            25.0\n",
      "6  59589.942099  1.0   1.5  lsstu            25.0\n",
      "1  59590.655099  1.0   1.5  lsstr            24.5\n",
      "9  59590.941973  1.0   1.5  lsstu            25.0\n",
      "8  59591.336274  1.0   1.5  lsstu            25.0\n",
      "3  59591.618347  1.0   1.5  lssti            23.0\n",
      "5  59591.854910  1.0   1.5  lsstg            25.0\n",
      "6  59593.133159  1.0   1.5  lsstg            25.0\n",
      "4  59594.105291  1.0   1.5  lssti            23.0\n",
      "7  59594.695431  1.0   1.5  lsstg            25.0\n",
      "2  59595.682776  1.0   1.5  lsstr            24.5\n",
      "5  59596.213773  1.0   1.5  lssti            23.0\n",
      "8  59596.741618  1.0   1.5  lsstg            25.0\n",
      "9  59597.743943  1.0   1.5  lsstg            25.0\n",
      "6  59598.227727  1.0   1.5  lssti            23.0\n",
      "3  59600.515691  1.0   1.5  lsstr            24.5\n",
      "7  59600.842496  1.0   1.5  lssti            23.0\n",
      "8  59604.637065  1.0   1.5  lssti            23.0\n",
      "4  59604.646233  1.0   1.5  lsstr            24.5\n",
      "9  59607.021883  1.0   1.5  lssti            23.0\n",
      "5  59608.685394  1.0   1.5  lsstr            24.5\n",
      "6  59613.208009  1.0   1.5  lsstr            24.5\n",
      "7  59618.172747  1.0   1.5  lsstr            24.5\n",
      "8  59623.549321  1.0   1.5  lsstr            24.5\n",
      "9  59628.952344  1.0   1.5  lsstr            24.5\n"
     ]
    }
   ],
   "source": [
    "# specify the number of pointings per band \n",
    "num_obs = {'lsstg': 10, 'lsstr':10, 'lssti':10, 'lsstz':10, 'lsstu':10}\n",
    "\n",
    "# specify the cadence in days for each band\n",
    "average_cadence = {'lsstg': 1.5, 'lsstr': 5.0, 'lssti': 2.5, 'lsstz':1, 'lsstu':1}\n",
    "\n",
    "# specify any scatter on the cadence, the time of the observation will be \n",
    "# taken from a Gaussian with the scatter as sigma\n",
    "cadence_scatter = {'lsstg': 0.5, 'lsstr':0.5, 'lssti':0.5, 'lsstz':1, 'lsstu':1}\n",
    "\n",
    "# Specify limiting 5 sigma depth magnitude\n",
    "limiting_magnitudes = {'lsstg': 25.0, 'lsstr': 24.5, 'lssti': 23.0, 'lsstu':25, 'lsstz':23}\n",
    "\n",
    "# We now use redback to make a pointings table from the above information\n",
    "# We set RA and DEC to always be at the location of the transient \n",
    "# but we can change this to incorporate the fov/full survey\n",
    "ra = 1.0 \n",
    "dec = 1.5\n",
    "# We also set the start time of the observation/survey strategy \n",
    "initMJD = 59581.0\n",
    "pointings = redback.simulate_transients.make_pointing_table_from_average_cadence(\n",
    "    ra=ra, dec=dec, num_obs=num_obs, average_cadence=average_cadence,\n",
    "    cadence_scatter=cadence_scatter, limiting_magnitudes=limiting_magnitudes, \n",
    "    initMJD=59581.0)\n",
    "print(pointings)"
   ]
  },
  {
   "cell_type": "markdown",
   "id": "aaf0dbcd",
   "metadata": {},
   "source": [
    "We now specify a redback model (or a user implemented model) and the parameters we want to simulate given the above cadences. "
   ]
  },
  {
   "cell_type": "code",
   "execution_count": 3,
   "id": "ae2591db",
   "metadata": {},
   "outputs": [
    {
     "name": "stderr",
     "output_type": "stream",
     "text": [
      "16:21 redback WARNING : [Errno 2] No such file or directory: '/Users/nikhil/Documents/postdoc/redback/redback/priors/one_component_kilonova.prior'\n",
      "16:21 redback WARNING : Returning empty PriorDict.\n"
     ]
    },
    {
     "name": "stdout",
     "output_type": "stream",
     "text": [
      "{'mej': 0.05, 't0_mjd_transient': 59582.0, 'redshift': 0.01, 't0': 59582.0, 'temperature_floor': 3000, 'kappa': 1, 'vej': 0.2, 'ra': 1.0, 'dec': 1.5}\n"
     ]
    }
   ],
   "source": [
    "model_kwargs = {}\n",
    "# Any redback model can be referred to as a string. \n",
    "# If the user has their own model, they can pass a function here instead. \n",
    "# There are over a 100 models implemented in redback, many for kilonovae, GRB afterglows, supernovae, TDEs and other things\n",
    "model = 'one_component_kilonova'\n",
    "# Load the default prior for this model in redback and sample from it to get 1 set of parameters. \n",
    "# We can sample from the default prior for this model for a random kilonova. \n",
    "parameters = redback.priors.get_priors(model=model).sample()\n",
    "\n",
    "# We fix a few parameters here to create a nice looking kilonova\n",
    "parameters['mej'] = 0.05\n",
    "parameters['t0_mjd_transient'] = 59582.0\n",
    "parameters['redshift'] = 0.01\n",
    "parameters['t0'] = parameters['t0_mjd_transient']\n",
    "parameters['temperature_floor'] = 3000\n",
    "parameters['kappa'] = 1\n",
    "parameters['vej'] = 0.2\n",
    "parameters['ra'] = 1.0\n",
    "parameters['dec'] = 1.5\n",
    "print(parameters)"
   ]
  },
  {
   "cell_type": "markdown",
   "id": "84053ab0",
   "metadata": {},
   "source": [
    "We now simulate a kilonova with the above parameters and the strategy designed above."
   ]
  },
  {
   "cell_type": "code",
   "execution_count": 4,
   "id": "1568c138",
   "metadata": {},
   "outputs": [
    {
     "name": "stderr",
     "output_type": "stream",
     "text": [
      "16:21 redback INFO    : Using the supplied as the pointing database.\n"
     ]
    }
   ],
   "source": [
    "kn_sim = SimulateOpticalTransient.simulate_transient(model='one_component_kilonova_model',\n",
    "                                       parameters=parameters, pointings_database=pointings,\n",
    "                                       survey=None, model_kwargs=model_kwargs,\n",
    "                                        end_transient_time=20., snr_threshold=5.0)"
   ]
  },
  {
   "cell_type": "code",
   "execution_count": 5,
   "id": "83e1760b",
   "metadata": {},
   "outputs": [
    {
     "name": "stdout",
     "output_type": "stream",
     "text": [
      "            time  magnitude  e_magnitude   band system  flux_density(mjy)   \n",
      "0   59581.159691        NaN          NaN  lsstu     AB       3.835527e-14  \\\n",
      "1   59581.946681        NaN          NaN  lsstz     AB       7.034873e-15   \n",
      "2   59582.083415  21.652528     0.070833  lsstz     AB       7.022943e-03   \n",
      "3   59582.182805  20.638699     0.024769  lsstz     AB       2.008389e-02   \n",
      "4   59582.200933  20.507816     0.021948  lsstz     AB       2.266548e-02   \n",
      "5   59582.625793  19.098374     0.005974  lsstz     AB       8.326845e-02   \n",
      "6   59582.915693  19.518728     0.001393  lsstg     AB       5.661590e-02   \n",
      "7   59583.087919  20.635558     0.003875  lsstu     AB       2.034579e-02   \n",
      "8   59583.227214  20.778616     0.004457  lsstu     AB       1.768781e-02   \n",
      "9   59583.639468  18.402093     0.003145  lsstz     AB       1.581727e-01   \n",
      "10  59583.938204  18.642413     0.003909  lssti     AB       1.272728e-01   \n",
      "11  59584.255173  18.453106     0.003294  lsstz     AB       1.510111e-01   \n",
      "12  59584.489534  18.533430     0.003532  lsstz     AB       1.408452e-01   \n",
      "13  59584.631016  18.589300     0.003732  lsstz     AB       1.333064e-01   \n",
      "14  59584.843276  23.557847     0.056760  lsstu     AB       1.389032e-03   \n",
      "15  59585.520656  21.851198     0.012031  lsstg     AB       6.553332e-03   \n",
      "16  59585.754989  19.100673     0.006014  lsstz     AB       8.272132e-02   \n",
      "17  59585.789345  20.430614     0.005116  lsstr     AB       2.442275e-02   \n",
      "18  59586.814794  20.052298     0.014559  lssti     AB       3.416800e-02   \n",
      "19  59587.593814  22.926609     0.030637  lsstg     AB       2.573378e-03   \n",
      "20  59588.221092  25.495323     0.424111  lsstu     AB       1.858982e-04   \n",
      "21  59588.531148  23.431822     0.047948  lsstg     AB       1.644310e-03   \n",
      "22  59589.008376  27.540196     0.601056  lsstu     AB       1.311715e-04   \n",
      "23  59589.321063  25.584134     0.679587  lsstu     AB       1.160138e-04   \n",
      "24  59589.570854  21.394230     0.050725  lssti     AB       9.806869e-03   \n",
      "25  59589.645741  23.839700     0.074826  lsstg     AB       1.053667e-03   \n",
      "26  59589.942099  28.201019     0.841606  lsstu     AB       9.367971e-05   \n",
      "27  59590.655099  22.631531     0.038315  lsstr     AB       3.261289e-03   \n",
      "28  59590.941973  26.801496     1.097684  lsstu     AB       7.182525e-05   \n",
      "29  59591.336274  26.143699     1.192318  lsstu     AB       6.612446e-05   \n",
      "30  59591.618347  22.047602     0.085689  lssti     AB       5.805389e-03   \n",
      "31  59591.854910  24.676576     0.128306  lsstg     AB       6.144813e-04   \n",
      "32  59593.133159  24.737790     0.153115  lsstg     AB       5.149162e-04   \n",
      "33  59594.105291  22.327907     0.117225  lssti     AB       4.243613e-03   \n",
      "34  59594.695431  24.559386     0.176312  lsstg     AB       4.471703e-04   \n",
      "35  59595.682776  23.111241     0.071214  lsstr     AB       1.754640e-03   \n",
      "36  59596.213773  22.535270     0.133078  lssti     AB       3.738082e-03   \n",
      "37  59596.741618  24.882140     0.194861  lsstg     AB       4.046031e-04   \n",
      "38  59597.743943  25.013972     0.199690  lsstg     AB       3.948183e-04   \n",
      "39  59598.227727  22.312822     0.139995  lssti     AB       3.553383e-03   \n",
      "40  59600.515691  23.400221     0.077522  lsstr     AB       1.611873e-03   \n",
      "41  59600.842496  22.749130     0.141408  lssti     AB       3.517877e-03   \n",
      "\n",
      "    flux_density_error  flux(erg/cm2/s)    flux_error  time (days)  detected   \n",
      "0                  NaN    -8.476559e-17  7.644000e-17    -0.840309       0.0  \\\n",
      "1                  NaN    -3.418606e-17  1.823467e-16    -0.053319       0.0   \n",
      "2             0.000458     3.153963e-15  1.823467e-16     0.083415       1.0   \n",
      "3             0.000458     8.023948e-15  1.823467e-16     0.182805       1.0   \n",
      "4             0.000458     9.051938e-15  1.823467e-16     0.200933       1.0   \n",
      "5             0.000458     3.315265e-14  1.823467e-16     0.625793       1.0   \n",
      "6             0.000073     9.462017e-14  1.214800e-16     0.915693       1.0   \n",
      "7             0.000073     2.128470e-14  7.644000e-17     1.087919       1.0   \n",
      "8             0.000073     1.865711e-14  7.644000e-17     1.227214       1.0   \n",
      "9             0.000458     6.295507e-14  1.823467e-16     1.639468       1.0   \n",
      "10            0.000458     7.922630e-14  2.863284e-16     1.938204       1.0   \n",
      "11            0.000458     6.006556e-14  1.823467e-16     2.255173       1.0   \n",
      "12            0.000458     5.578222e-14  1.823467e-16     2.489534       1.0   \n",
      "13            0.000458     5.298437e-14  1.823467e-16     2.631016       1.0   \n",
      "14            0.000073     1.442620e-15  7.644000e-17     2.843276       1.0   \n",
      "15            0.000073     1.104068e-14  1.214800e-16     3.520656       1.0   \n",
      "16            0.000458     3.308253e-14  1.823467e-16     3.754989       1.0   \n",
      "17            0.000115     2.309023e-14  1.088188e-16     3.789345       1.0   \n",
      "18            0.000458     2.162296e-14  2.863284e-16     4.814794       1.0   \n",
      "19            0.000073     4.100449e-15  1.214800e-16     5.593814       1.0   \n",
      "20            0.000073     2.421929e-16  7.644000e-17     6.221092       0.0   \n",
      "21            0.000073     2.574815e-15  1.214800e-16     6.531148       1.0   \n",
      "22            0.000073     3.683091e-17  7.644000e-17     7.008376       0.0   \n",
      "23            0.000073     2.231706e-16  7.644000e-17     7.321063       0.0   \n",
      "24            0.000458     6.282643e-15  2.863284e-16     7.570854       1.0   \n",
      "25            0.000073     1.768459e-15  1.214800e-16     7.645741       1.0   \n",
      "26            0.000073     2.003932e-17  7.644000e-17     7.942099       0.0   \n",
      "27            0.000115     3.041316e-15  1.088188e-16     8.655099       1.0   \n",
      "28            0.000073     7.272644e-17  7.644000e-17     8.941973       0.0   \n",
      "29            0.000073     1.332941e-16  7.644000e-17     9.336274       0.0   \n",
      "30            0.000458     3.441865e-15  2.863284e-16     9.618347       1.0   \n",
      "31            0.000073     8.181719e-16  1.214800e-16     9.854910       1.0   \n",
      "32            0.000073     7.733192e-16  1.214800e-16    11.133159       1.0   \n",
      "33            0.000458     2.658715e-15  2.863284e-16    12.105291       1.0   \n",
      "34            0.000073     9.114238e-16  1.214800e-16    12.695431       1.0   \n",
      "35            0.000115     1.955138e-15  1.088188e-16    13.682776       1.0   \n",
      "36            0.000458     2.196476e-15  2.863284e-16    14.213773       1.0   \n",
      "37            0.000073     6.770467e-16  1.214800e-16    14.741618       1.0   \n",
      "38            0.000073     5.996335e-16  1.214800e-16    15.743943       0.0   \n",
      "39            0.000458     2.695912e-15  2.863284e-16    16.227727       1.0   \n",
      "40            0.000115     1.498254e-15  1.088188e-16    18.515691       1.0   \n",
      "41            0.000458     1.803775e-15  2.863284e-16    18.842496       1.0   \n",
      "\n",
      "    limiting_magnitude  \n",
      "0                 25.0  \n",
      "1                 23.0  \n",
      "2                 23.0  \n",
      "3                 23.0  \n",
      "4                 23.0  \n",
      "5                 23.0  \n",
      "6                 25.0  \n",
      "7                 25.0  \n",
      "8                 25.0  \n",
      "9                 23.0  \n",
      "10                23.0  \n",
      "11                23.0  \n",
      "12                23.0  \n",
      "13                23.0  \n",
      "14                25.0  \n",
      "15                25.0  \n",
      "16                23.0  \n",
      "17                24.5  \n",
      "18                23.0  \n",
      "19                25.0  \n",
      "20                25.0  \n",
      "21                25.0  \n",
      "22                25.0  \n",
      "23                25.0  \n",
      "24                23.0  \n",
      "25                25.0  \n",
      "26                25.0  \n",
      "27                24.5  \n",
      "28                25.0  \n",
      "29                25.0  \n",
      "30                23.0  \n",
      "31                25.0  \n",
      "32                25.0  \n",
      "33                23.0  \n",
      "34                25.0  \n",
      "35                24.5  \n",
      "36                23.0  \n",
      "37                25.0  \n",
      "38                25.0  \n",
      "39                23.0  \n",
      "40                24.5  \n",
      "41                23.0  \n"
     ]
    }
   ],
   "source": [
    "# We can print the observations that were simulated to see what the data looks like. \n",
    "# This will include extra stuff like non-detections etc\n",
    "print(kn_sim.observations)"
   ]
  },
  {
   "cell_type": "code",
   "execution_count": 6,
   "id": "c94790f0",
   "metadata": {},
   "outputs": [],
   "source": [
    "# We can also save the observations to a file using the save_transient method.\n",
    "# This will save the observations to a csv file in a 'simulated' directory alongside the csv file\n",
    "# specifying the injection parameters.\n",
    "kn_sim.save_transient(name='my_kilonova')"
   ]
  },
  {
   "cell_type": "code",
   "execution_count": 7,
   "id": "9058a858",
   "metadata": {},
   "outputs": [
    {
     "name": "stderr",
     "output_type": "stream",
     "text": [
      "16:21 redback WARNING : [Errno 2] No such file or directory: 'kilonova//my_kilonova_metadata.csv'\n",
      "16:21 redback WARNING : Setting metadata to None. This is not an error, but a warning that no metadata could be found online.\n"
     ]
    },
    {
     "data": {
      "text/plain": [
       "(24.0, 18.0)"
      ]
     },
     "execution_count": 7,
     "metadata": {},
     "output_type": "execute_result"
    },
    {
     "data": {
      "image/png": "[encoded data removed]",
      "text/plain": [
       "<Figure size 640x480 with 1 Axes>"
      ]
     },
     "metadata": {},
     "output_type": "display_data"
    }
   ],
   "source": [
    "kn_object = redback.transient.Kilonova.from_simulated_optical_data(name='my_kilonova', data_mode='magnitude')\n",
    "\n",
    "# Make a dictionary for colors on the plot\n",
    "band_colors = {'lsstg':'#4daf4a', 'lsstu':'#377eb8', 'lsstr':'#e41a1c', \n",
    "               'lsstz':'#a65628', 'lssti':'#ff7f00'}\n",
    "ax = kn_object.plot_data(show=False, band_colors=band_colors)\n",
    "ax.set_ylim(24, 18)"
   ]
  },
  {
   "cell_type": "markdown",
   "id": "726973ea",
   "metadata": {},
   "source": [
    "The above plot only shows the detection and not the input lightcurve or non-detections. Let's add those in. As the axes is returned with can use the attributes stored in the kn_sim object directly."
   ]
  },
  {
   "cell_type": "code",
   "execution_count": 8,
   "id": "541907ef",
   "metadata": {},
   "outputs": [
    {
     "data": {
      "text/plain": [
       "(0.1, 20.0)"
      ]
     },
     "execution_count": 8,
     "metadata": {},
     "output_type": "execute_result"
    },
    {
     "data": {
      "image/png": "[encoded data removed]",
      "text/plain": [
       "<Figure size 640x480 with 1 Axes>"
      ]
     },
     "metadata": {},
     "output_type": "display_data"
    }
   ],
   "source": [
    "# Make a dictionary for colors on the plot\n",
    "band_colors = {'lsstg':'#4daf4a', 'lsstu':'#377eb8', 'lsstr':'#e41a1c', \n",
    "               'lsstz':'#a65628', 'lssti':'#ff7f00'}\n",
    "ax = kn_object.plot_data(show=False, band_colors=band_colors)\n",
    "ax.set_ylim(27, 18)\n",
    "\n",
    "upper_limits = kn_sim.observations[kn_sim.observations['detected'] != 1.0]\n",
    "\n",
    "for band in band_colors.keys():\n",
    "    up = upper_limits[upper_limits['band'] == band]\n",
    "    plt.scatter(up['time (days)'], up['magnitude'], s=100, marker=r'$\\downarrow$', color=band_colors[band])\n",
    "\n",
    "    \n",
    "# We can also plot the true data \n",
    "tt = np.linspace(0.1, 20, 100)\n",
    "# specify output_format \n",
    "parameters['output_format'] = 'magnitude'\n",
    "for band in band_colors.keys():\n",
    "    parameters['bands'] = band\n",
    "    out = redback.transient_models.kilonova_models.one_component_kilonova_model(tt, **parameters)\n",
    "    plt.plot(tt, out, color=band_colors[band], alpha=0.3)\n",
    "\n",
    "plt.xlim(0.1, 20)\n"
   ]
  },
  {
   "cell_type": "markdown",
   "id": "11b24bbf",
   "metadata": {},
   "source": [
    "You can now use the simulated object and do parameter estimation. There are multiple examples available at \n",
    "https://github.com/nikhil-sarin/redback/tree/master/examples. Alongside other examples to simulate full survey or single lightcurves for Rubin or ZTF \n",
    "https://github.com/nikhil-sarin/redback/blob/master/examples/simulate_survey.py\n",
    "https://github.com/nikhil-sarin/redback/blob/master/examples/simulate_single_transient_in_rubin.py\n"
   ]
  }
 ],
 "metadata": {
  "kernelspec": {
   "display_name": "Python 3 (ipykernel)",
   "language": "python",
   "name": "python3"
  },
  "language_info": {
   "codemirror_mode": {
    "name": "ipython",
    "version": 3
   },
   "file_extension": ".py",
   "mimetype": "text/x-python",
   "name": "python",
   "nbconvert_exporter": "python",
   "pygments_lexer": "ipython3",
   "version": "3.10.7"
  }
 },
 "nbformat": 4,
 "nbformat_minor": 5
}
